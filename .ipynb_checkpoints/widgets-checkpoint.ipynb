{
 "cells": [
  {
   "cell_type": "code",
   "execution_count": 2,
   "id": "844e45e3",
   "metadata": {},
   "outputs": [],
   "source": [
    "import ipywidgets as widgets"
   ]
  },
  {
   "cell_type": "code",
   "execution_count": 8,
   "id": "00196d92",
   "metadata": {},
   "outputs": [],
   "source": [
    "wid1 = widgets.BoundedFloatText(\n",
    "    value=10.0,\n",
    "    min=0,\n",
    "    max=900000.0,\n",
    "    step=0.1,\n",
    "    description='KM driven:',\n",
    "    disabled=False\n",
    ")\n",
    "\n",
    "wid2 = widgets.BoundedFloatText(\n",
    "    value=20.0,\n",
    "    min=0,\n",
    "    max=900000.0,\n",
    "    step=0.1,\n",
    "    description='Mileage',\n",
    "    disabled=False\n",
    ")"
   ]
  },
  {
   "cell_type": "code",
   "execution_count": null,
   "id": "bbb29a60",
   "metadata": {},
   "outputs": [],
   "source": []
  }
 ],
 "metadata": {
  "kernelspec": {
   "display_name": "Python 3 (ipykernel)",
   "language": "python",
   "name": "python3"
  },
  "language_info": {
   "codemirror_mode": {
    "name": "ipython",
    "version": 3
   },
   "file_extension": ".py",
   "mimetype": "text/x-python",
   "name": "python",
   "nbconvert_exporter": "python",
   "pygments_lexer": "ipython3",
   "version": "3.11.5"
  }
 },
 "nbformat": 4,
 "nbformat_minor": 5
}
